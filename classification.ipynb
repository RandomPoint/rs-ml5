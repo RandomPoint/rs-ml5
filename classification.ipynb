{
 "cells": [
  {
   "cell_type": "markdown",
   "metadata": {},
   "source": [
    "# Classification. Linear models and KNN"
   ]
  },
  {
   "cell_type": "code",
   "execution_count": 236,
   "metadata": {},
   "outputs": [],
   "source": [
    "import os\n",
    "import numpy as np\n",
    "import pandas as pd\n",
    "import seaborn as sns\n",
    "import matplotlib.pyplot as plt"
   ]
  },
  {
   "cell_type": "code",
   "execution_count": 237,
   "metadata": {},
   "outputs": [],
   "source": [
    "from sklearn.pipeline import Pipeline\n",
    "from sklearn.compose import ColumnTransformer\n",
    "from sklearn.model_selection import train_test_split, cross_validate\n",
    "from sklearn.metrics import plot_confusion_matrix, accuracy_score\n",
    "from sklearn.linear_model import SGDClassifier\n",
    "from sklearn.preprocessing import StandardScaler, OneHotEncoder"
   ]
  },
  {
   "cell_type": "markdown",
   "metadata": {},
   "source": [
    "## Part 1: Titanic survival prediction"
   ]
  },
  {
   "cell_type": "markdown",
   "metadata": {},
   "source": [
    "### Dataset\n",
    "\n",
    "Read the description here: https://www.kaggle.com/c/titanic/data. Download the dataset and place it in the *data/titanic/* folder in your working directory.\n",
    "You will use train.csv for model training and validation. The test set is used for model testing: once the model is trained, you can predict whether a passenger survived or not for each passenger in the test set, and submit the predictions: https://www.kaggle.com/c/titanic/overview/evaluation.  \n"
   ]
  },
  {
   "cell_type": "code",
   "execution_count": 238,
   "metadata": {},
   "outputs": [],
   "source": [
    "PATH = \"./data/\""
   ]
  },
  {
   "cell_type": "code",
   "execution_count": 239,
   "metadata": {},
   "outputs": [],
   "source": [
    "data = pd.read_csv(os.path.join(PATH, 'titanic', 'train.csv')).set_index('PassengerId')"
   ]
  },
  {
   "cell_type": "code",
   "execution_count": 240,
   "metadata": {
    "scrolled": true
   },
   "outputs": [
    {
     "data": {
      "text/html": [
       "<div>\n",
       "<style scoped>\n",
       "    .dataframe tbody tr th:only-of-type {\n",
       "        vertical-align: middle;\n",
       "    }\n",
       "\n",
       "    .dataframe tbody tr th {\n",
       "        vertical-align: top;\n",
       "    }\n",
       "\n",
       "    .dataframe thead th {\n",
       "        text-align: right;\n",
       "    }\n",
       "</style>\n",
       "<table border=\"1\" class=\"dataframe\">\n",
       "  <thead>\n",
       "    <tr style=\"text-align: right;\">\n",
       "      <th></th>\n",
       "      <th>Survived</th>\n",
       "      <th>Pclass</th>\n",
       "      <th>Name</th>\n",
       "      <th>Sex</th>\n",
       "      <th>Age</th>\n",
       "      <th>SibSp</th>\n",
       "      <th>Parch</th>\n",
       "      <th>Ticket</th>\n",
       "      <th>Fare</th>\n",
       "      <th>Cabin</th>\n",
       "      <th>Embarked</th>\n",
       "    </tr>\n",
       "    <tr>\n",
       "      <th>PassengerId</th>\n",
       "      <th></th>\n",
       "      <th></th>\n",
       "      <th></th>\n",
       "      <th></th>\n",
       "      <th></th>\n",
       "      <th></th>\n",
       "      <th></th>\n",
       "      <th></th>\n",
       "      <th></th>\n",
       "      <th></th>\n",
       "      <th></th>\n",
       "    </tr>\n",
       "  </thead>\n",
       "  <tbody>\n",
       "    <tr>\n",
       "      <th>1</th>\n",
       "      <td>0</td>\n",
       "      <td>3</td>\n",
       "      <td>Braund, Mr. Owen Harris</td>\n",
       "      <td>male</td>\n",
       "      <td>22.0</td>\n",
       "      <td>1</td>\n",
       "      <td>0</td>\n",
       "      <td>A/5 21171</td>\n",
       "      <td>7.2500</td>\n",
       "      <td>NaN</td>\n",
       "      <td>S</td>\n",
       "    </tr>\n",
       "    <tr>\n",
       "      <th>2</th>\n",
       "      <td>1</td>\n",
       "      <td>1</td>\n",
       "      <td>Cumings, Mrs. John Bradley (Florence Briggs Th...</td>\n",
       "      <td>female</td>\n",
       "      <td>38.0</td>\n",
       "      <td>1</td>\n",
       "      <td>0</td>\n",
       "      <td>PC 17599</td>\n",
       "      <td>71.2833</td>\n",
       "      <td>C85</td>\n",
       "      <td>C</td>\n",
       "    </tr>\n",
       "    <tr>\n",
       "      <th>3</th>\n",
       "      <td>1</td>\n",
       "      <td>3</td>\n",
       "      <td>Heikkinen, Miss. Laina</td>\n",
       "      <td>female</td>\n",
       "      <td>26.0</td>\n",
       "      <td>0</td>\n",
       "      <td>0</td>\n",
       "      <td>STON/O2. 3101282</td>\n",
       "      <td>7.9250</td>\n",
       "      <td>NaN</td>\n",
       "      <td>S</td>\n",
       "    </tr>\n",
       "    <tr>\n",
       "      <th>4</th>\n",
       "      <td>1</td>\n",
       "      <td>1</td>\n",
       "      <td>Futrelle, Mrs. Jacques Heath (Lily May Peel)</td>\n",
       "      <td>female</td>\n",
       "      <td>35.0</td>\n",
       "      <td>1</td>\n",
       "      <td>0</td>\n",
       "      <td>113803</td>\n",
       "      <td>53.1000</td>\n",
       "      <td>C123</td>\n",
       "      <td>S</td>\n",
       "    </tr>\n",
       "    <tr>\n",
       "      <th>5</th>\n",
       "      <td>0</td>\n",
       "      <td>3</td>\n",
       "      <td>Allen, Mr. William Henry</td>\n",
       "      <td>male</td>\n",
       "      <td>35.0</td>\n",
       "      <td>0</td>\n",
       "      <td>0</td>\n",
       "      <td>373450</td>\n",
       "      <td>8.0500</td>\n",
       "      <td>NaN</td>\n",
       "      <td>S</td>\n",
       "    </tr>\n",
       "  </tbody>\n",
       "</table>\n",
       "</div>"
      ],
      "text/plain": [
       "             Survived  Pclass  \\\n",
       "PassengerId                     \n",
       "1                   0       3   \n",
       "2                   1       1   \n",
       "3                   1       3   \n",
       "4                   1       1   \n",
       "5                   0       3   \n",
       "\n",
       "                                                          Name     Sex   Age  \\\n",
       "PassengerId                                                                    \n",
       "1                                      Braund, Mr. Owen Harris    male  22.0   \n",
       "2            Cumings, Mrs. John Bradley (Florence Briggs Th...  female  38.0   \n",
       "3                                       Heikkinen, Miss. Laina  female  26.0   \n",
       "4                 Futrelle, Mrs. Jacques Heath (Lily May Peel)  female  35.0   \n",
       "5                                     Allen, Mr. William Henry    male  35.0   \n",
       "\n",
       "             SibSp  Parch            Ticket     Fare Cabin Embarked  \n",
       "PassengerId                                                          \n",
       "1                1      0         A/5 21171   7.2500   NaN        S  \n",
       "2                1      0          PC 17599  71.2833   C85        C  \n",
       "3                0      0  STON/O2. 3101282   7.9250   NaN        S  \n",
       "4                1      0            113803  53.1000  C123        S  \n",
       "5                0      0            373450   8.0500   NaN        S  "
      ]
     },
     "execution_count": 240,
     "metadata": {},
     "output_type": "execute_result"
    }
   ],
   "source": [
    "data.head()"
   ]
  },
  {
   "cell_type": "markdown",
   "metadata": {},
   "source": [
    "### EDA"
   ]
  },
  {
   "cell_type": "markdown",
   "metadata": {},
   "source": [
    "**(0.5 points)** How many females and males are there in the dataset? What about the survived passengers? Is there any relationship between the gender and the survival?"
   ]
  },
  {
   "cell_type": "code",
   "execution_count": 241,
   "metadata": {},
   "outputs": [
    {
     "name": "stdout",
     "output_type": "stream",
     "text": [
      "males_survived 18.890814558058924 %\n",
      "females_survived 74.20382165605095 %\n"
     ]
    }
   ],
   "source": [
    "## your code\n",
    "males = data[data.Sex == 'male'].Sex.count()\n",
    "females = data[data.Sex == 'female'].Sex.count()\n",
    "males_survived = data[(data.Sex == 'male') & (data.Survived == 1)].Sex.count()\n",
    "females_survived = data[(data.Sex == 'female') & (data.Survived == 1)].Sex.count()\n",
    "print('males_survived', males_survived / males * 100, '%')\n",
    "print('females_survived', females_survived / females * 100, '%')"
   ]
  },
  {
   "cell_type": "markdown",
   "metadata": {},
   "source": [
    "ВЫВОД.\n",
    "Вероятно, старались спасать женщин в первую очередь"
   ]
  },
  {
   "cell_type": "markdown",
   "metadata": {},
   "source": [
    "**(0.5 points)** Plot age distribution of the passengers. What is the average and the median age of survived and deceased passengers? Do age distributions differ for survived and deceased passengers? Why?"
   ]
  },
  {
   "cell_type": "code",
   "execution_count": 242,
   "metadata": {},
   "outputs": [
    {
     "data": {
      "text/plain": [
       "Text(45, 30, 'Average age: 30.6 , median age: 28.0')"
      ]
     },
     "execution_count": 242,
     "metadata": {},
     "output_type": "execute_result"
    },
    {
     "data": {
      "image/png": "[encoded data removed]",
      "text/plain": [
       "<Figure size 1080x288 with 1 Axes>"
      ]
     },
     "metadata": {
      "needs_background": "light"
     },
     "output_type": "display_data"
    },
    {
     "data": {
      "image/png": "[encoded data removed]",
      "text/plain": [
       "<Figure size 1080x288 with 1 Axes>"
      ]
     },
     "metadata": {
      "needs_background": "light"
     },
     "output_type": "display_data"
    },
    {
     "data": {
      "image/png": "[encoded data removed]",
      "text/plain": [
       "<Figure size 1080x288 with 1 Axes>"
      ]
     },
     "metadata": {
      "needs_background": "light"
     },
     "output_type": "display_data"
    }
   ],
   "source": [
    "## your code\n",
    "data_age_dropped = data.copy(deep=True)\n",
    "data_age_dropped = data_age_dropped.dropna(subset=['Age'])\n",
    "data_age_dropped.hist(column='Age', bins=50, figsize=(15, 4))\n",
    "plt.title('Age distribution')\n",
    "data_age_dropped[data_age_dropped.Survived == 1].hist(column='Age', bins=50, figsize=(15, 4))\n",
    "plt.title('Age distribution of survived')\n",
    "plt.text(45, 20, f'Average age: {round(data_age_dropped[data_age_dropped.Survived == 1].Age.mean(), 1)} , median age: {data_age_dropped[data_age_dropped.Survived == 1].Age.median()}')\n",
    "data_age_dropped[data_age_dropped.Survived == 0].hist(column='Age', bins=50, figsize=(15, 4))\n",
    "plt.title('Age distribution of deceased')\n",
    "plt.text(45, 30, f'Average age: {round(data_age_dropped[data_age_dropped.Survived == 0].Age.mean(), 1)} , median age: {data_age_dropped[data_age_dropped.Survived == 0].Age.median()}')"
   ]
  },
  {
   "cell_type": "code",
   "execution_count": 243,
   "metadata": {},
   "outputs": [
    {
     "data": {
      "image/png": "[encoded data removed]",
      "text/plain": [
       "<Figure size 1080x288 with 1 Axes>"
      ]
     },
     "metadata": {
      "needs_background": "light"
     },
     "output_type": "display_data"
    }
   ],
   "source": [
    "data_age_dropped['age_group'] = data_age_dropped.apply(lambda x: ' 0-6 years' if x['Age'] <= 6 else ' 7-12 years' if x['Age'] <= 12\\\n",
    "                               else '13-18 years' if x['Age'] <= 18 else '19-24 years' if x['Age'] <= 24\\\n",
    "                               else '25-30 years' if x['Age'] <= 30 else '31-36 years' if x['Age'] <= 36\\\n",
    "                               else '37-42 years' if x['Age'] <= 42 else '43-48 years' if x['Age'] <= 48\\\n",
    "                               else '49-54 years' if x['Age'] <= 54 else '55-60 years' if x['Age'] <= 60\\\n",
    "                               else '61-66 years' if x['Age'] <= 66 else '67-72 years' if x['Age'] <= 72\\\n",
    "                               else '72+ years', axis=1)\n",
    "distr = data_age_dropped.groupby('age_group').count().max(axis=1)[[' 0-6 years', ' 7-12 years', '13-18 years', '19-24 years',\\\n",
    "                                                       '25-30 years', '31-36 years', '37-42 years', '43-48 years',\\\n",
    "                                                       '49-54 years', '55-60 years', '61-66 years', '67-72 years',\\\n",
    "                                                       '72+ years'\\\n",
    "                                                      ]]\n",
    "plt.figure(figsize=(15, 4))\n",
    "plt.bar(distr.index, distr.values)\n",
    "plt.ylabel('Number of passengers')\n",
    "plt.title('Distribution of passengers across age groups')\n",
    "plt.show()"
   ]
  },
  {
   "cell_type": "code",
   "execution_count": 244,
   "metadata": {},
   "outputs": [
    {
     "data": {
      "image/png": "[encoded data removed]",
      "text/plain": [
       "<Figure size 432x288 with 1 Axes>"
      ]
     },
     "metadata": {
      "needs_background": "light"
     },
     "output_type": "display_data"
    }
   ],
   "source": [
    "step_age = 6\n",
    "age_list = [i for i in range(0, 73, step_age)] + [120]\n",
    "data_age_dropped['age_group1'] = pd.cut(data_age_dropped.Age, age_list, right=False)\n",
    "distr1 = data_age_dropped.groupby('age_group1').Survived.mean().plot.bar(title='Distribution of survived passengers (relative) across age groups')"
   ]
  },
  {
   "cell_type": "code",
   "execution_count": 245,
   "metadata": {},
   "outputs": [
    {
     "data": {
      "image/png": "[encoded data removed]",
      "text/plain": [
       "<Figure size 432x288 with 1 Axes>"
      ]
     },
     "metadata": {
      "needs_background": "light"
     },
     "output_type": "display_data"
    }
   ],
   "source": [
    "distr = data_age_dropped.groupby('age_group').Survived.mean().plot.bar(title='Distribution of survived passengers (relative) across age groups')"
   ]
  },
  {
   "cell_type": "code",
   "execution_count": 246,
   "metadata": {},
   "outputs": [
    {
     "data": {
      "image/png": "[encoded data removed]",
      "text/plain": [
       "<Figure size 432x288 with 1 Axes>"
      ]
     },
     "metadata": {
      "needs_background": "light"
     },
     "output_type": "display_data"
    }
   ],
   "source": [
    "distr = data_age_dropped.groupby(['age_group', 'Survived']).size().unstack().plot.bar(title='Distribution of survived and deceased passengers across age groups')"
   ]
  },
  {
   "cell_type": "markdown",
   "metadata": {},
   "source": [
    "< your thoughts >\n",
    "Наблюдается примерно одинаковое распределение по возрасту среди выживших и погибших. Средний возраст выживших чуть ниже за счёт спасения маленьких детей и того, что почти все пассажиры старше 65 лет не спаслись. Возможно, им не дали этого сделать те, кто был помоложе."
   ]
  },
  {
   "cell_type": "markdown",
   "metadata": {},
   "source": [
    "**(1 point)** Explore \"passenger class\" and \"embarked\" features. What class was \"the safest\"? Is there any relationship between the embarkation port and the survival? Provide the corresponding visualizations."
   ]
  },
  {
   "cell_type": "code",
   "execution_count": 247,
   "metadata": {},
   "outputs": [
    {
     "name": "stdout",
     "output_type": "stream",
     "text": [
      "From class 1 survived 136 persons, 62.96296296296296 %\n",
      "From class 2 survived 87 persons, 47.28260869565217 %\n",
      "From class 3 survived 119 persons, 24.236252545824847 %\n"
     ]
    }
   ],
   "source": [
    "## your code\n",
    "pclass1 = data[data.Pclass == 1].Pclass.count()\n",
    "pclass2 = data[data.Pclass == 2].Pclass.count()\n",
    "pclass3 = data[data.Pclass == 3].Pclass.count()\n",
    "pclass1_survived = data[(data.Pclass == 1) & (data.Survived == 1)].Pclass.count()\n",
    "pclass2_survived = data[(data.Pclass == 2) & (data.Survived == 1)].Pclass.count()\n",
    "pclass3_survived = data[(data.Pclass == 3) & (data.Survived == 1)].Pclass.count()\n",
    "print(f'From class 1 survived {pclass1_survived} persons, {pclass1_survived / pclass1 * 100} %')\n",
    "print(f'From class 2 survived {pclass2_survived} persons, {pclass2_survived / pclass2 * 100} %')\n",
    "print(f'From class 3 survived {pclass3_survived} persons, {pclass3_survived / pclass3 * 100} %')\n"
   ]
  },
  {
   "cell_type": "code",
   "execution_count": 248,
   "metadata": {},
   "outputs": [
    {
     "data": {
      "text/plain": [
       "<AxesSubplot:title={'center':'Passenger class influence on survival (absolute)'}, xlabel='Pclass'>"
      ]
     },
     "execution_count": 248,
     "metadata": {},
     "output_type": "execute_result"
    },
    {
     "data": {
      "image/png": "[encoded data removed]",
      "text/plain": [
       "<Figure size 432x288 with 1 Axes>"
      ]
     },
     "metadata": {
      "needs_background": "light"
     },
     "output_type": "display_data"
    }
   ],
   "source": [
    "data.groupby(['Pclass', 'Survived']).size().unstack().plot.bar(title='Passenger class influence on survival (absolute)')"
   ]
  },
  {
   "cell_type": "code",
   "execution_count": 249,
   "metadata": {},
   "outputs": [
    {
     "data": {
      "text/plain": [
       "<AxesSubplot:title={'center':'Passenger class influence on survival (relative)'}, xlabel='Pclass'>"
      ]
     },
     "execution_count": 249,
     "metadata": {},
     "output_type": "execute_result"
    },
    {
     "data": {
      "image/png": "[encoded data removed]",
      "text/plain": [
       "<Figure size 432x288 with 1 Axes>"
      ]
     },
     "metadata": {
      "needs_background": "light"
     },
     "output_type": "display_data"
    }
   ],
   "source": [
    "data.groupby(['Pclass']).Survived.mean().plot.bar(title='Passenger class influence on survival (relative)')"
   ]
  },
  {
   "cell_type": "code",
   "execution_count": 250,
   "metadata": {},
   "outputs": [
    {
     "data": {
      "text/plain": [
       "<AxesSubplot:title={'center':'Embarkation port survived and dead passengers (absolute)'}, xlabel='Embarked'>"
      ]
     },
     "execution_count": 250,
     "metadata": {},
     "output_type": "execute_result"
    },
    {
     "data": {
      "image/png": "[encoded data removed]",
      "text/plain": [
       "<Figure size 432x288 with 1 Axes>"
      ]
     },
     "metadata": {
      "needs_background": "light"
     },
     "output_type": "display_data"
    }
   ],
   "source": [
    "data.groupby(['Embarked', 'Survived']).size().unstack().plot.bar\\\n",
    "    (title='Embarkation port survived and dead passengers (absolute)')"
   ]
  },
  {
   "cell_type": "code",
   "execution_count": 251,
   "metadata": {},
   "outputs": [
    {
     "data": {
      "text/plain": [
       "<AxesSubplot:title={'center':'Embarkation port survived passengers (relative)'}, xlabel='Embarked'>"
      ]
     },
     "execution_count": 251,
     "metadata": {},
     "output_type": "execute_result"
    },
    {
     "data": {
      "image/png": "[encoded data removed]",
      "text/plain": [
       "<Figure size 432x288 with 1 Axes>"
      ]
     },
     "metadata": {
      "needs_background": "light"
     },
     "output_type": "display_data"
    }
   ],
   "source": [
    "data.groupby(['Embarked']).Survived.mean().plot.bar(title='Embarkation port survived passengers (relative)')"
   ]
  },
  {
   "cell_type": "code",
   "execution_count": 252,
   "metadata": {},
   "outputs": [
    {
     "name": "stdout",
     "output_type": "stream",
     "text": [
      "From Cherbourg survived 93 persons, 55.35714285714286 %\n",
      "From Queenstown survived 30 persons, 38.961038961038966 %\n",
      "From Southampton survived 217 persons, 33.69565217391305 %\n"
     ]
    }
   ],
   "source": [
    "portCherbourg = data[data.Embarked == 'C'].Embarked.count()\n",
    "portQueenstown = data[data.Embarked == 'Q'].Embarked.count()\n",
    "portSouthampton = data[data.Embarked == 'S'].Embarked.count()\n",
    "portCherbourg_survived = data[(data.Embarked == 'C') & (data.Survived == 1)].Pclass.count()\n",
    "portQueenstown_survived = data[(data.Embarked == 'Q') & (data.Survived == 1)].Pclass.count()\n",
    "portSouthampton_survived = data[(data.Embarked == 'S') & (data.Survived == 1)].Pclass.count()\n",
    "print(f'From Cherbourg survived {portCherbourg_survived} persons, {portCherbourg_survived / portCherbourg * 100} %')\n",
    "print(f'From Queenstown survived {portQueenstown_survived} persons, {portQueenstown_survived / portQueenstown * 100} %')\n",
    "print(f'From Southampton survived {portSouthampton_survived} persons, {portSouthampton_survived / portSouthampton * 100} %')"
   ]
  },
  {
   "cell_type": "code",
   "execution_count": 253,
   "metadata": {},
   "outputs": [
    {
     "data": {
      "text/plain": [
       "<AxesSubplot:title={'center':'Summarly chart of survived passengers (relative), their embarkation port and cabin class'}, xlabel='Embarked', ylabel='Survival percentage'>"
      ]
     },
     "execution_count": 253,
     "metadata": {},
     "output_type": "execute_result"
    },
    {
     "data": {
      "image/png": "[encoded data removed]",
      "text/plain": [
       "<Figure size 432x288 with 1 Axes>"
      ]
     },
     "metadata": {
      "needs_background": "light"
     },
     "output_type": "display_data"
    },
    {
     "data": {
      "image/png": "[encoded data removed]",
      "text/plain": [
       "<Figure size 432x288 with 1 Axes>"
      ]
     },
     "metadata": {
      "needs_background": "light"
     },
     "output_type": "display_data"
    },
    {
     "data": {
      "image/png": "[encoded data removed]",
      "text/plain": [
       "<Figure size 432x288 with 1 Axes>"
      ]
     },
     "metadata": {
      "needs_background": "light"
     },
     "output_type": "display_data"
    }
   ],
   "source": [
    "#port_dict = {'C': 0, 'Q': 1, 'S': 2}\n",
    "#data['embark_code'] = data['Embarked'].replace(to_replace=port_dict)\n",
    "data.groupby(['Embarked', 'Pclass']).size().unstack().plot.bar(title='Embarkation port passengers distibution by Pclass')\n",
    "data.groupby(['Embarked', 'Pclass']).Survived.sum().unstack().plot.bar\\\n",
    "    (title='Summarly chart of survived passengers (absolute), their embarkation port and cabin class',  ylabel='Survived passengers')\n",
    "data.groupby(['Embarked', 'Pclass']).Survived.mean().unstack().plot.bar\\\n",
    "    (title='Summarly chart of survived passengers (relative), their embarkation port and cabin class', ylabel='Survival percentage')"
   ]
  },
  {
   "cell_type": "markdown",
   "metadata": {},
   "source": [
    "< your thoughts >\n",
    "Итак, первый класс оказался самым безопасным. На первый взгляд кажется, что процент выживших зависит от порта посадки, но на самом деле, в них просто было разное распределение по классам кабин (в Шербуре больше плыло первым классом)."
   ]
  },
  {
   "cell_type": "markdown",
   "metadata": {},
   "source": [
    "### Modelling"
   ]
  },
  {
   "cell_type": "markdown",
   "metadata": {},
   "source": [
    "**(0.5 points)** Find the percentage of missing values for each feature. "
   ]
  },
  {
   "cell_type": "code",
   "execution_count": 254,
   "metadata": {},
   "outputs": [
    {
     "name": "stdout",
     "output_type": "stream",
     "text": [
      "col_name      null_cnt    null_perc\n",
      "----------  ----------  -----------\n",
      "Cabin              687    77.1044\n",
      "Age                177    19.8653\n",
      "Embarked             2     0.224467\n",
      "Survived             0     0\n",
      "Pclass               0     0\n",
      "Name                 0     0\n",
      "Sex                  0     0\n",
      "SibSp                0     0\n",
      "Parch                0     0\n",
      "Ticket               0     0\n",
      "Fare                 0     0\n"
     ]
    }
   ],
   "source": [
    "## your code\n",
    "from tabulate import tabulate\n",
    "\n",
    "print(tabulate(\n",
    "    sorted(list(zip(data.columns, data.isnull().sum(), data.isnull().sum() / data.shape[0] * 100)), key=lambda x: -x[2])[:], \n",
    "    headers=['col_name', 'null_cnt', 'null_perc']))\n",
    "    "
   ]
  },
  {
   "cell_type": "markdown",
   "metadata": {},
   "source": [
    "Think about the ways to handle these missing values for modelling and write your answer below. Which methods would you suggest? What are their advantages and disadvantages?\n",
    "\n",
    "< your thoughts >\n",
    "На отсутствующие значения номера кабины и порта можно не обращать внимания, поскольку они не влияют на результат.\n",
    "Строки, где отсутствует значение возраста, можно было бы отбросить, но это будет довольно большое количество отбрасываемой информации. Можно заполнить пробелы в возрасте средними значениями (преимущества: быстро и просто, недостатки: по сути, случайные значения) или более сложным методом, который будет учитывать структуру данных. Попробуем заполнить отсутствующие данные о возрасте методом KNN-Imputation."
   ]
  },
  {
   "cell_type": "markdown",
   "metadata": {},
   "source": [
    "**(1.5 points)** Prepare the features and train two models (KNN and Logistic Regression) to predict the survival. Compare the results. Use accuracy as a metric. Don't forget about cross-validation!"
   ]
  },
  {
   "cell_type": "code",
   "execution_count": 255,
   "metadata": {},
   "outputs": [],
   "source": [
    "y = data['Survived']\n",
    "data = pd.get_dummies(data, columns=['Sex'])\n",
    "data.loc[:, 'Age_filled_mean'] = data.Age\n",
    "data.Age_filled_mean = data.Age_filled_mean.fillna(data.Age_filled_mean.mean())\n"
   ]
  },
  {
   "cell_type": "code",
   "execution_count": 256,
   "metadata": {},
   "outputs": [],
   "source": [
    "from sklearn.impute import KNNImputer\n",
    "imputer = KNNImputer(n_neighbors=5, weights='uniform', metric='nan_euclidean')\n",
    "Age_feat = ['Age', 'Pclass', 'Sex_female', 'Sex_male']\n",
    "X = data[Age_feat]\n",
    "imputer.fit(X)\n",
    "Xtrans = imputer.transform(X)\n",
    "Xtrans_df = pd.DataFrame(Xtrans, index=data.index, columns=Age_feat)\n",
    "data['Age_filled_knn'] = Xtrans_df.Age\n"
   ]
  },
  {
   "cell_type": "code",
   "execution_count": 257,
   "metadata": {},
   "outputs": [],
   "source": [
    "#Используем скейлинг\n",
    "scaler = StandardScaler()\n",
    "data['Age_filled_mean'] = scaler.fit_transform(data[['Age_filled_mean']])\n",
    "data['Age_filled_knn'] = scaler.fit_transform(data[['Age_filled_knn']])"
   ]
  },
  {
   "cell_type": "code",
   "execution_count": 258,
   "metadata": {},
   "outputs": [],
   "source": [
    "#используем следующий набор признаков:\n",
    "features_mean_age = ['Age_filled_mean', 'Pclass', 'Sex_female', 'Sex_male']\n",
    "features_knn_age = ['Age_filled_knn', 'Pclass', 'Sex_female', 'Sex_male']\n",
    "X_age_mean = data[features_mean_age]\n",
    "X_age_knn = data[features_knn_age]"
   ]
  },
  {
   "cell_type": "code",
   "execution_count": 259,
   "metadata": {},
   "outputs": [],
   "source": [
    "from sklearn.neighbors import KNeighborsClassifier\n",
    "from sklearn.linear_model import LogisticRegression\n",
    "from sklearn.model_selection import cross_val_score\n",
    "\n",
    "logreg_model = LogisticRegression(solver='liblinear', penalty='l2')\n",
    "knn_model = KNeighborsClassifier(n_neighbors = 5)\n"
   ]
  },
  {
   "cell_type": "code",
   "execution_count": 260,
   "metadata": {},
   "outputs": [
    {
     "name": "stdout",
     "output_type": "stream",
     "text": [
      "Logistic regression results: 0.794878\n",
      "KNN results: 0.770984\n"
     ]
    }
   ],
   "source": [
    "X_train, X_test, y_train, y_test = train_test_split(X_age_mean, y, test_size=0.2, random_state=42)\n",
    "\n",
    "print('Logistic regression results: {:f}'.format(cross_val_score(logreg_model, X_train, y_train, \n",
    "                      scoring='accuracy', cv=5).mean()))\n",
    "print('KNN results: {:f}'.format(cross_val_score(knn_model, X_train, y_train, \n",
    "                      scoring='accuracy', cv=5).mean()))"
   ]
  },
  {
   "cell_type": "code",
   "execution_count": 261,
   "metadata": {},
   "outputs": [
    {
     "name": "stdout",
     "output_type": "stream",
     "text": [
      "Logistic regression results: 0.792081\n",
      "KNN results: 0.790643\n"
     ]
    }
   ],
   "source": [
    "X_train, X_test, y_train, y_test = train_test_split(X_age_knn, y, test_size=0.2, random_state=42)\n",
    "\n",
    "print('Logistic regression results: {:f}'.format(cross_val_score(logreg_model, X_train, y_train, \n",
    "                      scoring='accuracy', cv=5).mean()))\n",
    "print('KNN results: {:f}'.format(cross_val_score(knn_model, X_train, y_train, \n",
    "                      scoring='accuracy', cv=5).mean()))"
   ]
  },
  {
   "cell_type": "markdown",
   "metadata": {},
   "source": [
    "**(0.5 + X points)** Try more feature engineering and hyperparameter tuning to improve the results. You may use either KNN or Logistic Regression (or both)."
   ]
  },
  {
   "cell_type": "code",
   "execution_count": null,
   "metadata": {},
   "outputs": [],
   "source": [
    "#Kaggle - https://www.kaggle.com/alexanderpavlovets"
   ]
  },
  {
   "cell_type": "code",
   "execution_count": 262,
   "metadata": {},
   "outputs": [
    {
     "name": "stdout",
     "output_type": "stream",
     "text": [
      "Logistic regression results: 0.793470\n",
      "KNN results: 0.779425\n"
     ]
    }
   ],
   "source": [
    "## your code\n",
    "data = pd.get_dummies(data, columns=['Pclass'])\n",
    "features = ['Age_filled_mean', 'Pclass_1', 'Pclass_2', 'Pclass_3', 'Sex_female', 'Sex_male']\n",
    "X = data[features]\n",
    "X_train, X_test, y_train, y_test = train_test_split(X, y, test_size=0.2, random_state=42)\n",
    "\n",
    "print('Logistic regression results: {:f}'.format(cross_val_score(logreg_model, X_train, y_train, \n",
    "                      scoring='accuracy', cv=5).mean()))\n",
    "print('KNN results: {:f}'.format(cross_val_score(knn_model, X_train, y_train, \n",
    "                      scoring='accuracy', cv=5).mean()))"
   ]
  },
  {
   "cell_type": "code",
   "execution_count": 263,
   "metadata": {},
   "outputs": [],
   "source": [
    "from sklearn.model_selection import GridSearchCV\n",
    "#lr_param_grid = {'C': [0.01, 0.1, 1.0, 10.0],\n",
    "#                 'penalty': ['l1', 'l2']}\n",
    "#lr_clf = GridSearchCV(LogisticRegression(random_state=42, max_iter=1000, solver='saga', n_jobs=-1), lr_param_grid)\n"
   ]
  },
  {
   "cell_type": "code",
   "execution_count": 264,
   "metadata": {},
   "outputs": [],
   "source": [
    "import logging"
   ]
  },
  {
   "cell_type": "code",
   "execution_count": 265,
   "metadata": {},
   "outputs": [],
   "source": [
    "#logging.basicConfig()\n",
    "#logging.getLogger().setLevel(logging.INFO)"
   ]
  },
  {
   "cell_type": "code",
   "execution_count": 266,
   "metadata": {},
   "outputs": [],
   "source": [
    "from sklearn import metrics\n",
    "def fit_plot_confusion(clf, X_train, y_train, X_test, y_test):\n",
    "    clf.fit(X_train, y_train)\n",
    "\n",
    "    mean, std = clf.cv_results_['mean_test_score'][clf.best_index_], \\\n",
    "                clf.cv_results_['std_test_score'][clf.best_index_]\n",
    "\n",
    "    logging.info(clf.best_params_)\n",
    "\n",
    "    disp = metrics.plot_confusion_matrix(clf, X_test, y_test % 2, normalize='true')\n",
    "    disp.figure_.suptitle(\"Confusion Matrix\")\n",
    "    plt.show()\n",
    "    \n",
    "    return clf.best_estimator_, {\"mean\": mean, \"std\": std}"
   ]
  },
  {
   "cell_type": "code",
   "execution_count": 267,
   "metadata": {},
   "outputs": [],
   "source": [
    "#lr_best_clf, lr_stats = fit_plot_confusion(lr_clf, X_train, y_train, X_test, y_test)"
   ]
  },
  {
   "cell_type": "code",
   "execution_count": 268,
   "metadata": {},
   "outputs": [],
   "source": [
    "#lr_best_clf.fit(X, y)\n",
    "#y_pred = lr_best_clf.predict(X_test)\n",
    "#metrics.accuracy_score(y_pred, y_test)"
   ]
  },
  {
   "cell_type": "markdown",
   "metadata": {},
   "source": [
    "Load the test set and make the predictions. Submit them to kaggle and see the results :)\n",
    "Select the best model, load the test set and make the predictions. Submit them to kaggle.\n",
    "\n",
    "**Note**. X points will depend on your kaggle leaderboard score.\n",
    "$$ f(score) = 0.5, \\ \\ 0.79 \\leq score < 0.81,$$\n",
    "$$ f(score) = 1.0, \\ \\ 0.81 \\leq score < 0.83,$$ \n",
    "$$ f(score) = 2.5, \\ \\ 0.83 \\leq score $$ \n",
    "Your code should generate the output submitted to kaggle. Fix random seeds to make the results reproducible."
   ]
  },
  {
   "cell_type": "code",
   "execution_count": 270,
   "metadata": {},
   "outputs": [],
   "source": [
    "## your code\n",
    "logreg_model.fit(X_age_mean, y)\n",
    "#logreg_model.fit(X, y)\n",
    "test_data = pd.read_csv(os.path.join(PATH, 'titanic', 'test.csv')).set_index('PassengerId')\n",
    "\n",
    "test_data = pd.get_dummies(test_data, columns=['Sex'])\n",
    "#test_data = pd.get_dummies(test_data, columns=['Pclass'])\n",
    "\n",
    "test_data.loc[:, 'Age_filled_mean'] = test_data.Age\n",
    "test_data.Age_filled_mean = test_data.Age_filled_mean.fillna(test_data.Age_filled_mean.mean())\n",
    "\n",
    "test_data['Age_filled_mean'] = scaler.fit_transform(test_data[['Age_filled_mean']])\n",
    "\n",
    "#X_test = test_data[features]\n",
    "X_test = test_data[features_mean_age]\n",
    "#lr_best_clf.fit(X, y)\n",
    "test_preds = logreg_model.predict(X_test)\n",
    "#test_preds_tuned = lr_best_clf.predict(X_test)\n",
    "\n",
    "output = pd.DataFrame({'PassengerId': test_data.index, 'Survived': test_preds})\n",
    "output.to_csv('submission_titanic.csv', index=False)"
   ]
  },
  {
   "cell_type": "markdown",
   "metadata": {},
   "source": [
    "## Part 2: Porto Seguro’s Safe Driver Prediction"
   ]
  },
  {
   "cell_type": "markdown",
   "metadata": {},
   "source": [
    "Let's build a model that predicts the probability that a driver will initiate an auto insurance claim in the next year.\n",
    "Read the detailed description and download the dataset https://www.kaggle.com/c/porto-seguro-safe-driver-prediction/data. Put the data into *./data/porto/*."
   ]
  },
  {
   "cell_type": "code",
   "execution_count": null,
   "metadata": {},
   "outputs": [],
   "source": [
    "insurance_data = pd.read_csv(os.path.join(PATH, 'porto', 'train.csv')).set_index('id')"
   ]
  },
  {
   "cell_type": "code",
   "execution_count": null,
   "metadata": {},
   "outputs": [],
   "source": [
    "insurance_data.head()"
   ]
  },
  {
   "cell_type": "markdown",
   "metadata": {},
   "source": [
    "Let's skip EDA for now. We'll use SGDClassifier and build a simple baseline: https://scikit-learn.org/stable/modules/generated/sklearn.linear_model.SGDClassifier.html.\n",
    "Note that loss='log' gives logistic regression."
   ]
  },
  {
   "cell_type": "code",
   "execution_count": null,
   "metadata": {},
   "outputs": [],
   "source": [
    "y = insurance_data['target']\n",
    "X = insurance_data.drop(columns=['target'])"
   ]
  },
  {
   "cell_type": "code",
   "execution_count": null,
   "metadata": {},
   "outputs": [],
   "source": [
    "numeric_features = [column for column in X if not (column.endswith(\"cat\") or column.endswith(\"bin\"))]\n",
    "numeric_transformer = Pipeline(steps=[('scaler', StandardScaler())])\n",
    "\n",
    "categorical_features = [column for column in X if (column.endswith(\"cat\") or column.endswith(\"bin\"))]\n",
    "categorical_transformer = Pipeline(steps=[('encoder', OneHotEncoder(handle_unknown='ignore'))])\n",
    "\n",
    "preprocessor = ColumnTransformer(\n",
    "    transformers=[\n",
    "        ('num', numeric_transformer, numeric_features),\n",
    "        ('cat', categorical_transformer, categorical_features)])\n",
    "\n",
    "pipeline = Pipeline(steps=[('preprocessor', preprocessor),\n",
    "                           ('classifier', SGDClassifier(loss='log', alpha=0.001, n_jobs=-1, random_state=14))])"
   ]
  },
  {
   "cell_type": "code",
   "execution_count": null,
   "metadata": {},
   "outputs": [],
   "source": [
    "X_train, X_valid, y_train, y_valid = train_test_split(X, y, test_size=0.3, random_state=42)"
   ]
  },
  {
   "cell_type": "code",
   "execution_count": null,
   "metadata": {},
   "outputs": [],
   "source": [
    "clf = pipeline.fit(X_train, y_train)"
   ]
  },
  {
   "cell_type": "markdown",
   "metadata": {},
   "source": [
    "We'll calculate the model accuracy:"
   ]
  },
  {
   "cell_type": "code",
   "execution_count": null,
   "metadata": {},
   "outputs": [],
   "source": [
    "accuracy_score(y_true=y_valid, y_pred=clf.predict(X_valid))"
   ]
  },
  {
   "cell_type": "markdown",
   "metadata": {},
   "source": [
    "Wow! Our model gets ~0.963 accuracy! But is it really good?...\n",
    "\n",
    "Let's plot the confusion matrix and analyze the errors."
   ]
  },
  {
   "cell_type": "code",
   "execution_count": null,
   "metadata": {},
   "outputs": [],
   "source": [
    "disp = plot_confusion_matrix(clf, X_valid, y_valid,\n",
    "                             cmap=plt.cm.Blues,\n",
    "                             normalize=None)"
   ]
  },
  {
   "cell_type": "markdown",
   "metadata": {},
   "source": [
    "Well, it turns out that our model is completely useless. Let's calculate some basic statistics:"
   ]
  },
  {
   "cell_type": "code",
   "execution_count": null,
   "metadata": {
    "scrolled": true
   },
   "outputs": [],
   "source": [
    "insurance_data.describe()"
   ]
  },
  {
   "cell_type": "markdown",
   "metadata": {},
   "source": [
    "As you see, there are less than 4% of positive examples, so we have to deal with a highly imbalanced dataset."
   ]
  },
  {
   "cell_type": "code",
   "execution_count": null,
   "metadata": {},
   "outputs": [],
   "source": [
    "sns.countplot(x='target', data=insurance_data)\n",
    "plt.show()"
   ]
  },
  {
   "cell_type": "markdown",
   "metadata": {},
   "source": [
    "Accuracy is not informative here and the Normalized Gini Coefficient will be used instead: https://www.kaggle.com/c/porto-seguro-safe-driver-prediction/overview/evaluation."
   ]
  },
  {
   "cell_type": "code",
   "execution_count": null,
   "metadata": {},
   "outputs": [],
   "source": [
    "# Code for calculating Normalized gini coefficient\n",
    "# https://www.kaggle.com/c/ClaimPredictionChallenge/discussion/703\n",
    "def gini(actual, pred, cmpcol = 0, sortcol = 1):  \n",
    "    assert(len(actual) == len(pred))  \n",
    "    epsilon = 1e-7\n",
    "    values = np.asarray(np.c_[actual, pred, np.arange(len(actual))], dtype=np.float)  \n",
    "    values = values[np.lexsort((values[:, 2], -1 * values[:, 1]))]  \n",
    "    total = values[:, 0].sum() \n",
    "    gini_sum = (values[:, 0].cumsum().sum() + epsilon) / (total + epsilon)  \n",
    "  \n",
    "    gini_sum -= (len(actual) + 1) / 2  \n",
    "    return gini_sum / len(actual)  \n",
    "  \n",
    "def gini_normalized(a, p):  \n",
    "    '''Function to calculate the normalized gini coefficient'''\n",
    "    return gini(a, p) / gini(a, a)"
   ]
  },
  {
   "cell_type": "markdown",
   "metadata": {},
   "source": [
    "**(1.5 points)** Prove that the **Normalized Gini Coefficient** is equivalent to **2 x AUC - 1** :"
   ]
  },
  {
   "cell_type": "markdown",
   "metadata": {},
   "source": [
    "< your proof >"
   ]
  },
  {
   "cell_type": "markdown",
   "metadata": {},
   "source": [
    "**(0.5 points)** By the way, what other metrics could you suggest for this problem?"
   ]
  },
  {
   "cell_type": "markdown",
   "metadata": {},
   "source": [
    "< your thoughts >"
   ]
  },
  {
   "cell_type": "markdown",
   "metadata": {},
   "source": [
    "Let's calculate the Normalized Gini Coefficient:"
   ]
  },
  {
   "cell_type": "code",
   "execution_count": null,
   "metadata": {},
   "outputs": [],
   "source": [
    "y_pred = clf.predict_proba(X_valid)[:, 1]"
   ]
  },
  {
   "cell_type": "code",
   "execution_count": null,
   "metadata": {},
   "outputs": [],
   "source": [
    "gini_normalized(y_valid, y_pred)"
   ]
  },
  {
   "cell_type": "markdown",
   "metadata": {},
   "source": [
    "**(0.5 points + Y bonus points)** Try different approaches: oversampling / undersampling, careful feature analysis and feature engineering, etc., to get a reasonable pipeline and improve the model quality. Use cross-validation for model evaluation.\n",
    "\n",
    "Select the best model, load the test set and make the predictions. Submit them to kaggle.\n",
    "Y bonus points will be calculated as $\\frac{round(200 * \\max(score - 0.253, 0))}{2}$, where *score* is your kaggle leaderboard score.\n",
    "\n",
    "Note: do not use any classification models which have not been covered in the lessons yet."
   ]
  },
  {
   "cell_type": "code",
   "execution_count": null,
   "metadata": {},
   "outputs": [],
   "source": [
    "## your code"
   ]
  }
 ],
 "metadata": {
  "kernelspec": {
   "display_name": "Python 3",
   "language": "python",
   "name": "python3"
  },
  "language_info": {
   "codemirror_mode": {
    "name": "ipython",
    "version": 3
   },
   "file_extension": ".py",
   "mimetype": "text/x-python",
   "name": "python",
   "nbconvert_exporter": "python",
   "pygments_lexer": "ipython3",
   "version": "3.8.5"
  }
 },
 "nbformat": 4,
 "nbformat_minor": 4
}
